{
 "cells": [
  {
   "cell_type": "code",
   "execution_count": 3,
   "metadata": {},
   "outputs": [],
   "source": [
    "from more_itertools import sliced\n",
    "from keras.models import Sequential\n",
    "from keras.layers import Dense, LSTM, Embedding, SpatialDropout1D\n",
    "from keras.preprocessing.text import Tokenizer\n",
    "from keras.preprocessing.sequence import pad_sequences\n",
    "from sklearn.model_selection import train_test_split\n",
    "from keras.callbacks.callbacks import EarlyStopping\n",
    "import numpy as np\n",
    "import pandas as pd\n",
    "import seaborn as sns\n",
    "import matplotlib.pyplot as plt\n",
    "import os"
   ]
  },
  {
   "cell_type": "code",
   "execution_count": 4,
   "metadata": {},
   "outputs": [],
   "source": [
    "data = pd.read_csv('../ProjectML/US_Accidents_Dec19.csv')"
   ]
  },
  {
   "cell_type": "code",
   "execution_count": 5,
   "metadata": {},
   "outputs": [
    {
     "data": {
      "text/html": [
       "<div>\n",
       "<style scoped>\n",
       "    .dataframe tbody tr th:only-of-type {\n",
       "        vertical-align: middle;\n",
       "    }\n",
       "\n",
       "    .dataframe tbody tr th {\n",
       "        vertical-align: top;\n",
       "    }\n",
       "\n",
       "    .dataframe thead th {\n",
       "        text-align: right;\n",
       "    }\n",
       "</style>\n",
       "<table border=\"1\" class=\"dataframe\">\n",
       "  <thead>\n",
       "    <tr style=\"text-align: right;\">\n",
       "      <th></th>\n",
       "      <th>Description</th>\n",
       "      <th>Severity</th>\n",
       "    </tr>\n",
       "  </thead>\n",
       "  <tbody>\n",
       "    <tr>\n",
       "      <td>2355736</td>\n",
       "      <td>At I-280/OH-420/Exit 71 - Accident.</td>\n",
       "      <td>2</td>\n",
       "    </tr>\n",
       "    <tr>\n",
       "      <td>1755961</td>\n",
       "      <td>Accident on I-476 Southbound from Exit 44 to E...</td>\n",
       "      <td>3</td>\n",
       "    </tr>\n",
       "    <tr>\n",
       "      <td>1695530</td>\n",
       "      <td>Right hand shoulder blocked due to accident on...</td>\n",
       "      <td>3</td>\n",
       "    </tr>\n",
       "    <tr>\n",
       "      <td>1608215</td>\n",
       "      <td>Accident on Memorial Hwy at Independence Pkwy.</td>\n",
       "      <td>2</td>\n",
       "    </tr>\n",
       "    <tr>\n",
       "      <td>1774276</td>\n",
       "      <td>Accident on I-805 Southbound at Exit 21 CA-274...</td>\n",
       "      <td>3</td>\n",
       "    </tr>\n",
       "  </tbody>\n",
       "</table>\n",
       "</div>"
      ],
      "text/plain": [
       "                                               Description  Severity\n",
       "2355736                At I-280/OH-420/Exit 71 - Accident.         2\n",
       "1755961  Accident on I-476 Southbound from Exit 44 to E...         3\n",
       "1695530  Right hand shoulder blocked due to accident on...         3\n",
       "1608215     Accident on Memorial Hwy at Independence Pkwy.         2\n",
       "1774276  Accident on I-805 Southbound at Exit 21 CA-274...         3"
      ]
     },
     "execution_count": 5,
     "metadata": {},
     "output_type": "execute_result"
    }
   ],
   "source": [
    "text_data = data[['Description','Severity']].sample(n=1000, random_state=10)\n",
    "text_data.head()"
   ]
  },
  {
   "cell_type": "code",
   "execution_count": 6,
   "metadata": {},
   "outputs": [
    {
     "name": "stdout",
     "output_type": "stream",
     "text": [
      "At I-280/OH-420/Exit 71 - Accident.\n",
      "Accident on I-476 Southbound from Exit 44 to Exits 31 31A 31B PA-63 Sumneytown Pike.\n",
      "Right hand shoulder blocked due to accident on I-295 Southbound before Exit 51 US-90 Beach Blvd.\n",
      "Accident on Memorial Hwy at Independence Pkwy.\n",
      "Accident on I-805 Southbound at Exit 21 CA-274 Balboa Ave.\n",
      "Accident on SC-215 Blackstock Rd at Cinder Ridge Dr.\n",
      "At CR-613/Flanders Netcong Rd - Accident.\n",
      "Accident on Penn Ave at I-240 Service Rd.\n",
      "Accident a motorcycle involved on Haverhill St at Rustic Ln.\n",
      "Accident on Greenbriar Rd at Southwest Pkwy.\n",
      "Accident on I-264 Eastbound at Exits 11 12 I-65.\n",
      "At I-80/Exit 304 - Accident.\n",
      "Restrictions due to accident and fallen power cables on 76th St at Parkview Blvd.\n",
      "Accident on I-77 Southbound at Brookshire Fwy.\n",
      "Multi-vehicle accident on I-90 Westbound at Exit 188 I-271.\n"
     ]
    }
   ],
   "source": [
    "for i in range(15):\n",
    "    print(text_data['Description'].iloc[i])"
   ]
  },
  {
   "cell_type": "code",
   "execution_count": 7,
   "metadata": {},
   "outputs": [
    {
     "name": "stdout",
     "output_type": "stream",
     "text": [
      "Found 1822 unique tokens.\n"
     ]
    }
   ],
   "source": [
    "MAX_NB_WORDS = 100\n",
    "MAX_SEQUENCE_LENGTH = 500\n",
    "EMBEDDING_DIM = 100\n",
    "tokenizer = Tokenizer(num_words=MAX_NB_WORDS, filters='!\"#$%&()*+,-./:;<=>?@[\\]^_`{|}~', lower=True)\n",
    "tokenizer.fit_on_texts(text_data['Description'].values)\n",
    "word_index = tokenizer.word_index\n",
    "print('Found %s unique tokens.' % len(word_index))"
   ]
  },
  {
   "cell_type": "code",
   "execution_count": 8,
   "metadata": {},
   "outputs": [
    {
     "name": "stdout",
     "output_type": "stream",
     "text": [
      "Shape of data tensor: (1000, 500)\n",
      "Shape of label tensor: (1000, 3)\n"
     ]
    }
   ],
   "source": [
    "X = tokenizer.texts_to_sequences(text_data['Description'].values)\n",
    "X = pad_sequences(X, maxlen=MAX_SEQUENCE_LENGTH)\n",
    "print('Shape of data tensor:', X.shape)\n",
    "Y = pd.get_dummies(text_data['Severity']).values\n",
    "print('Shape of label tensor:', Y.shape)"
   ]
  },
  {
   "cell_type": "code",
   "execution_count": 9,
   "metadata": {},
   "outputs": [
    {
     "name": "stdout",
     "output_type": "stream",
     "text": [
      "(900, 500) (900, 3)\n",
      "(100, 500) (100, 3)\n"
     ]
    }
   ],
   "source": [
    "X_train, X_test, Y_train, Y_test = train_test_split(X,Y, test_size = 0.10, random_state = 42)\n",
    "print(X_train.shape,Y_train.shape)\n",
    "print(X_test.shape,Y_test.shape)"
   ]
  },
  {
   "cell_type": "code",
   "execution_count": 35,
   "metadata": {},
   "outputs": [
    {
     "name": "stderr",
     "output_type": "stream",
     "text": [
      "C:\\Users\\rishi\\Anaconda3\\lib\\site-packages\\tensorflow_core\\python\\framework\\indexed_slices.py:433: UserWarning: Converting sparse IndexedSlices to a dense Tensor of unknown shape. This may consume a large amount of memory.\n",
      "  \"Converting sparse IndexedSlices to a dense Tensor of unknown shape. \"\n"
     ]
    },
    {
     "name": "stdout",
     "output_type": "stream",
     "text": [
      "Train on 810 samples, validate on 90 samples\n",
      "Epoch 1/15\n",
      "810/810 [==============================] - 8s 9ms/step - loss: 0.9159 - accuracy: 0.6259 - val_loss: 0.9401 - val_accuracy: 0.6000\n",
      "Epoch 2/15\n",
      "810/810 [==============================] - 6s 8ms/step - loss: 0.7075 - accuracy: 0.6963 - val_loss: 0.7871 - val_accuracy: 0.6000\n",
      "Epoch 3/15\n",
      "810/810 [==============================] - 7s 9ms/step - loss: 0.6213 - accuracy: 0.7074 - val_loss: 0.6522 - val_accuracy: 0.8000\n",
      "Epoch 4/15\n",
      "810/810 [==============================] - 7s 9ms/step - loss: 0.4971 - accuracy: 0.7988 - val_loss: 0.5703 - val_accuracy: 0.7667\n",
      "Epoch 5/15\n",
      "810/810 [==============================] - 7s 9ms/step - loss: 0.4026 - accuracy: 0.8531 - val_loss: 0.4617 - val_accuracy: 0.8556\n",
      "Epoch 6/15\n",
      "810/810 [==============================] - 7s 9ms/step - loss: 0.3328 - accuracy: 0.8827 - val_loss: 0.3948 - val_accuracy: 0.9222\n",
      "Epoch 7/15\n",
      "810/810 [==============================] - 8s 9ms/step - loss: 0.3261 - accuracy: 0.8951 - val_loss: 0.3499 - val_accuracy: 0.8889\n",
      "Epoch 8/15\n",
      "810/810 [==============================] - 7s 9ms/step - loss: 0.2802 - accuracy: 0.9074 - val_loss: 0.3317 - val_accuracy: 0.9222\n",
      "Epoch 9/15\n",
      "810/810 [==============================] - 7s 9ms/step - loss: 0.2556 - accuracy: 0.9235 - val_loss: 0.3007 - val_accuracy: 0.9111\n",
      "Epoch 10/15\n",
      "810/810 [==============================] - 7s 9ms/step - loss: 0.2424 - accuracy: 0.9210 - val_loss: 0.2939 - val_accuracy: 0.9111\n",
      "Epoch 11/15\n",
      "810/810 [==============================] - 7s 9ms/step - loss: 0.2306 - accuracy: 0.9247 - val_loss: 0.3043 - val_accuracy: 0.9111\n",
      "Epoch 12/15\n",
      "810/810 [==============================] - 8s 9ms/step - loss: 0.2188 - accuracy: 0.9358 - val_loss: 0.2904 - val_accuracy: 0.9111\n",
      "Epoch 13/15\n",
      "810/810 [==============================] - 7s 9ms/step - loss: 0.2179 - accuracy: 0.9309 - val_loss: 0.3013 - val_accuracy: 0.9111\n",
      "Epoch 14/15\n",
      "810/810 [==============================] - 8s 9ms/step - loss: 0.2036 - accuracy: 0.9383 - val_loss: 0.2975 - val_accuracy: 0.9111\n",
      "Epoch 15/15\n",
      "810/810 [==============================] - 7s 9ms/step - loss: 0.2077 - accuracy: 0.9333 - val_loss: 0.2928 - val_accuracy: 0.9000\n"
     ]
    }
   ],
   "source": [
    "model = Sequential()\n",
    "model.add(Embedding(MAX_NB_WORDS, EMBEDDING_DIM, input_length=X.shape[1]))\n",
    "model.add(LSTM(100, dropout=0.2, recurrent_dropout=0.2))\n",
    "model.add(Dense(3, activation='softmax'))\n",
    "model.compile(loss='categorical_crossentropy', optimizer='adam', metrics=['accuracy'])\n",
    "epochs = 15\n",
    "batch_size = 64\n",
    "history = model.fit(X_train, Y_train, epochs=epochs, batch_size=batch_size,validation_split=0.1,callbacks=[EarlyStopping(monitor='val_loss', patience=4, min_delta=0.001)])"
   ]
  },
  {
   "cell_type": "code",
   "execution_count": 36,
   "metadata": {},
   "outputs": [
    {
     "name": "stdout",
     "output_type": "stream",
     "text": [
      "100/100 [==============================] - 0s 2ms/step\n",
      "Test set\n",
      "  Loss: 0.249\n",
      "  Accuracy: 0.910\n"
     ]
    }
   ],
   "source": [
    "accr = model.evaluate(X_test,Y_test)\n",
    "print('Test set\\n  Loss: {:0.3f}\\n  Accuracy: {:0.3f}'.format(accr[0],accr[1]))"
   ]
  },
  {
   "cell_type": "code",
   "execution_count": 37,
   "metadata": {},
   "outputs": [
    {
     "data": {
      "image/png": "[encoded data removed]",
      "text/plain": [
       "<Figure size 432x288 with 1 Axes>"
      ]
     },
     "metadata": {
      "needs_background": "light"
     },
     "output_type": "display_data"
    }
   ],
   "source": [
    "plt.title('Loss')\n",
    "plt.plot(history.history['loss'], label='train')\n",
    "plt.plot(history.history['val_loss'], label='test')\n",
    "plt.legend()\n",
    "plt.show();"
   ]
  },
  {
   "cell_type": "code",
   "execution_count": null,
   "metadata": {},
   "outputs": [],
   "source": []
  }
 ],
 "metadata": {
  "kernelspec": {
   "display_name": "Python 3",
   "language": "python",
   "name": "python3"
  },
  "language_info": {
   "codemirror_mode": {
    "name": "ipython",
    "version": 3
   },
   "file_extension": ".py",
   "mimetype": "text/x-python",
   "name": "python",
   "nbconvert_exporter": "python",
   "pygments_lexer": "ipython3",
   "version": "3.7.4"
  }
 },
 "nbformat": 4,
 "nbformat_minor": 2
}
